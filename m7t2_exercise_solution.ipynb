{
  "nbformat": 4,
  "nbformat_minor": 0,
  "metadata": {
    "language_info": {
      "name": "python",
      "codemirror_mode": {
        "name": "ipython",
        "version": 3
      },
      "version": "3.5.3-final"
    },
    "orig_nbformat": 2,
    "file_extension": ".py",
    "mimetype": "text/x-python",
    "name": "python",
    "npconvert_exporter": "python",
    "pygments_lexer": "ipython3",
    "version": 3,
    "kernelspec": {
      "name": "python35364bit5527b3f40af34bed895ca03a834eda96",
      "display_name": "Python 3.5.3 64-bit"
    },
    "colab": {
      "name": "m7t2 exercise solution.ipynb",
      "provenance": [],
      "collapsed_sections": [],
      "toc_visible": true
    }
  },
  "cells": [
    {
      "cell_type": "markdown",
      "metadata": {
        "id": "T2ava4lHiz_Y"
      },
      "source": [
        "## Task:\n",
        "** To form a confusion matrix from the given information and derive metrics from it. **"
      ]
    },
    {
      "cell_type": "code",
      "metadata": {
        "id": "O7lWqx8Hiz_a"
      },
      "source": [
        "## importing necessary libraries\n",
        "import numpy as np\n",
        "import pandas as pd\n",
        "from sklearn.metrics import confusion_matrix\n",
        "from sklearn.metrics import classification_report"
      ],
      "execution_count": 103,
      "outputs": []
    },
    {
      "cell_type": "code",
      "metadata": {
        "id": "tJq1RwT2iz_h",
        "colab": {
          "base_uri": "https://localhost:8080/"
        },
        "outputId": "7bdf108d-cc5c-4964-8826-e0459b46db14"
      },
      "source": [
        "## defining variables\n",
        "seed_value = (11,12) #for reproducible results\n",
        "array_size = 200\n",
        "\n",
        "seed_value, array_size"
      ],
      "execution_count": 104,
      "outputs": [
        {
          "output_type": "execute_result",
          "data": {
            "text/plain": [
              "((11, 12), 200)"
            ]
          },
          "metadata": {
            "tags": []
          },
          "execution_count": 104
        }
      ]
    },
    {
      "cell_type": "code",
      "metadata": {
        "id": "kOB5wlhaiz_m",
        "colab": {
          "base_uri": "https://localhost:8080/"
        },
        "outputId": "08418702-c4c8-428b-9340-b54c3b1a1154"
      },
      "source": [
        "## generating actuals and predictions\n",
        "\n",
        "np.random.seed(seed_value[0])\n",
        "actuals = np.random.randint(0,2,array_size)\n",
        "\n",
        "np.random.seed(seed_value[1])\n",
        "predictions = np.random.randint(0,2,array_size)\n",
        "\n",
        "print(actuals[:6])\n",
        "print(predictions[:6])\n",
        "print(actuals.size, predictions.size)"
      ],
      "execution_count": 105,
      "outputs": [
        {
          "output_type": "stream",
          "text": [
            "[1 1 0 1 1 1]\n",
            "[1 1 0 1 1 0]\n",
            "200 200\n"
          ],
          "name": "stdout"
        }
      ]
    },
    {
      "cell_type": "code",
      "metadata": {
        "id": "VHn-l2nsiz_q",
        "colab": {
          "base_uri": "https://localhost:8080/"
        },
        "outputId": "3e77cb04-a464-4506-fb39-a8d94531b625"
      },
      "source": [
        "# forming confusion matrix (actuals/predictions on horizontal/vertical axis respectively)\n",
        "# Hint : use confusion matric function which we imported earlier\n",
        "cf = confusion_matrix(actuals,predictions, labels=[0,1])\n",
        "print(cf)"
      ],
      "execution_count": 106,
      "outputs": [
        {
          "output_type": "stream",
          "text": [
            "[[58 40]\n",
            " [48 54]]\n"
          ],
          "name": "stdout"
        }
      ]
    },
    {
      "cell_type": "markdown",
      "metadata": {
        "id": "25t7SIqSiz_u"
      },
      "source": [
        "Expected Outcome <br>\n",
        "<img src=\"images/image1.png\" />"
      ]
    },
    {
      "cell_type": "code",
      "metadata": {
        "id": "x-ps4UNOiz_v",
        "colab": {
          "base_uri": "https://localhost:8080/"
        },
        "outputId": "4cc380c2-ff44-436d-bbf9-38c501e5f07e"
      },
      "source": [
        "## Extract True Positive, True Negative, False Positive, False Negative\n",
        "## Note that all these values are corresponding to class 1\n",
        "\n",
        "tp = cf[1][1]\n",
        "\n",
        "fp = cf[1][0]\n",
        "\n",
        "tn = cf[0][0]\n",
        "\n",
        "fn = cf[0][1]\n",
        "\n",
        "\n",
        "print(tp,fp,tn,fn)"
      ],
      "execution_count": 107,
      "outputs": [
        {
          "output_type": "stream",
          "text": [
            "54 48 58 40\n"
          ],
          "name": "stdout"
        }
      ]
    },
    {
      "cell_type": "markdown",
      "metadata": {
        "id": "FV8d7SVNiz_z"
      },
      "source": [
        "Expected Outcome<br>\n",
        "<img src=\"images/image2.png\" />"
      ]
    },
    {
      "cell_type": "code",
      "metadata": {
        "id": "-TCm4rHMiz_z",
        "colab": {
          "base_uri": "https://localhost:8080/"
        },
        "outputId": "afbd33f3-fb21-486f-a77f-c9e08894b6f2"
      },
      "source": [
        "## Calculate Precision\n",
        "precision = tp/(tp+fp)\n",
        "\n",
        "## Calculate Recall\n",
        "recall = tp/(tp+fn)\n",
        "\n",
        "## Calculate f1 score\n",
        "f1 = 2/((1/precision)+(1/recall))\n",
        "\n",
        "precision, recall, f1"
      ],
      "execution_count": 108,
      "outputs": [
        {
          "output_type": "execute_result",
          "data": {
            "text/plain": [
              "(0.5294117647058824, 0.574468085106383, 0.5510204081632654)"
            ]
          },
          "metadata": {
            "tags": []
          },
          "execution_count": 108
        }
      ]
    },
    {
      "cell_type": "markdown",
      "metadata": {
        "id": "_fz3lQSAiz_4"
      },
      "source": [
        "Expected Outcome <br>\n",
        "<img src=\"images/image3.png\" />"
      ]
    }
  ]
}